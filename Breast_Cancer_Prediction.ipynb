{
  "cells": [
    {
      "cell_type": "markdown",
      "metadata": {
        "id": "view-in-github",
        "colab_type": "text"
      },
      "source": [
        "<a href=\"https://colab.research.google.com/github/shyam-sundar-mg/Breast-Cancer-Prediction/blob/main/Breast_Cancer_Prediction.ipynb\" target=\"_parent\"><img src=\"https://colab.research.google.com/assets/colab-badge.svg\" alt=\"Open In Colab\"/></a>"
      ]
    },
    {
      "cell_type": "code",
      "execution_count": 1,
      "metadata": {
        "colab": {
          "base_uri": "https://localhost:8080/"
        },
        "id": "PTehFVntZdH0",
        "outputId": "da06cf2c-1415-41cb-85dc-e3885ebbd094"
      },
      "outputs": [
        {
          "output_type": "stream",
          "name": "stdout",
          "text": [
            "Colab only includes TensorFlow 2.x; %tensorflow_version has no effect.\n"
          ]
        }
      ],
      "source": [
        "%tensorflow_version 2.x"
      ]
    },
    {
      "cell_type": "code",
      "execution_count": null,
      "metadata": {
        "id": "IBnFskpraLf7"
      },
      "outputs": [],
      "source": [
        "import tensorflow as tf\n",
        "import tensorflow.compat.v2.feature_column as fc\n",
        "import os\n",
        "import sys\n",
        "\n",
        "import numpy as np\n",
        "import pandas as pd\n",
        "import matplotlib.pyplot as plt\n",
        "from IPython.display import clear_output\n",
        "from six.moves import urllib"
      ]
    },
      "source": [
        "dftrain = pd.read_csv('/content/breast-cancer-data.csv')\n",
        "dfeval = pd.read_csv('/content/breast-test-data.csv')\n",
        "# dftrain['node-caps'].fillna('no\\'',inplace=True)\n",
        "# dfeval['node-caps'].fillna('no\\'',inplace=True)\n",
        "# dftrain['breast-quad'].fillna('central\\'',inplace=True)\n",
        "# dfeval['breast-quad'].fillna('central\\'',inplace=True)\n",
        "dftrain.dropna(inplace=True)\n",
        "dfeval.dropna(inplace=True)\n",
        "y_train = dftrain.pop(\"class\")\n",
        "y_eval = dfeval.pop(\"class\")\n",
        "\n",
        "y_train.replace(['no-recurrence-events\\'', 'recurrence-events\\''], [0, 1], inplace=True)\n",
        "y_eval.replace(['no-recurrence-events\\'', 'recurrence-events\\''], [0, 1], inplace=True)"
      ]
    },
    {
      "cell_type": "code",
      "execution_count": null,
      "metadata": {
        "id": "W2G53MtGCI2w"
      },
      "outputs": [],
      "source": [
        "dftrain[\"breast\"][dftrain.age == dftrain.age.max()]"
      ]
    },
    {
      "cell_type": "code",
      "execution_count": null,
      "metadata": {
        "id": "_yO-3otTdJFb"
      },
      "outputs": [],
      "source": [
        "CATEGORICAL_COLUMNS = ['age',\n",
        "                      'menopause',\n",
        "                      'tumer-size',\n",
        "                      'inv-nodes',\n",
        "                      'node-caps',\n",
        "                      'deg-malig',\n",
        "                      'breast',\n",
        "                      'breast-quad',\n",
        "                      'irradiate']\n",
        "NUMERIC_COLUMNS = []\n",
        "feature_columns = []\n",
        "for feature_name in CATEGORICAL_COLUMNS:\n",
        "  vocabulary = dftrain[feature_name].unique()\n",
        "  feature_columns.append(tf.feature_column.categorical_column_with_vocabulary_list(feature_name, vocabulary))\n",
        "\n",
        "for feature_name in NUMERIC_COLUMNS:\n",
        "  feature_columns.append(tf.feature_column.numeric_column(feature_name, dtype=tf.float32))\n"
      ]
    },
      "source": [
        "def make_input_fn(data_df, label_df, num_epochs=10, shuffle=True, batch_size=32):\n",
        "  def input_function():\n",
        "    ds = tf.data.Dataset.from_tensor_slices((dict(data_df), label_df))\n",
        "    if shuffle:\n",
        "      ds = ds.shuffle(1000)\n",
        "    ds = ds.batch(batch_size).repeat(num_epochs)\n",
        "    return ds\n",
        "  return input_function\n",
        "\n",
        "train_input_fn = make_input_fn(dftrain, y_train)\n",
        "eval_input_fn = make_input_fn(dfeval, y_eval, num_epochs=1, shuffle=False)\n"
      ]
    },
    {
      "cell_type": "code",
      "execution_count": null,
      "metadata": {
        "id": "SpzERMalYUKo"
      },
      "outputs": [],
      "source": [
        "linear_est = tf.estimator.LinearClassifier(feature_columns=feature_columns)\n",
        "linear_est.train(train_input_fn)\n",
        "result = linear_est.evaluate(eval_input_fn)\n",
        "\n",
        "clear_output()\n",
        "print(result)\n"
      ]
    }
